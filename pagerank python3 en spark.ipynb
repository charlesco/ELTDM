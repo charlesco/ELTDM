{
 "cells": [
  {
   "cell_type": "markdown",
   "metadata": {
    "collapsed": true,
    "deletable": true,
    "editable": true
   },
   "source": [
    "# Algorithme PageRank"
   ]
  },
  {
   "cell_type": "code",
   "execution_count": 1,
   "metadata": {
    "collapsed": false,
    "deletable": true,
    "editable": true
   },
   "outputs": [],
   "source": [
    "import re, sys\n",
    "from operator import add\n",
    "import numpy as np\n",
    "import pandas as pd\n",
    "from math import *\n",
    "import os\n",
    "os.chdir(\"C:/Users/brian/Documents/ENSAE/3A/ELDTM/Pagerank\")\n",
    "import networkx as nx\n",
    "import matplotlib.pyplot as plt\n",
    "%matplotlib inline"
   ]
  },
  {
   "cell_type": "markdown",
   "metadata": {
    "deletable": true,
    "editable": true
   },
   "source": [
    "## Algorithme"
   ]
  },
  {
   "cell_type": "markdown",
   "metadata": {
    "deletable": true,
    "editable": true
   },
   "source": [
    "Calcul du rang pour chaque noeud :"
   ]
  },
  {
   "cell_type": "markdown",
   "metadata": {
    "deletable": true,
    "editable": true
   },
   "source": [
    "$$r^{i+1}(p)=\\sum_{ q \\rightarrow p}\\frac{r^{i}(q)}{d(q)}$$"
   ]
  },
  {
   "cell_type": "code",
   "execution_count": 2,
   "metadata": {
    "collapsed": true,
    "deletable": true,
    "editable": true
   },
   "outputs": [],
   "source": [
    "def liste_contrib(nums,rang):\n",
    "    #poids de chaque noeud dans l'ensemble des numéros sortant\n",
    "    nb_nums=len(nums)\n",
    "    for num in nums:\n",
    "        yield (num,rang/nb_nums)"
   ]
  },
  {
   "cell_type": "markdown",
   "metadata": {},
   "source": [
    "Introduction du facteur d'amortissement $\\alpha$ pour le calcul du rang selon la formule :"
   ]
  },
  {
   "cell_type": "markdown",
   "metadata": {},
   "source": [
    "$$r^{i+1}(p)=\\frac{1-\\alpha}{N}+\\alpha \\sum_{ q \\rightarrow p}\\frac{r^{i}(q)}{d(q)}$$"
   ]
  },
  {
   "cell_type": "markdown",
   "metadata": {
    "deletable": true,
    "editable": true
   },
   "source": [
    "Itérations sur le calcul du rang :"
   ]
  },
  {
   "cell_type": "code",
   "execution_count": 3,
   "metadata": {
    "collapsed": true,
    "deletable": true,
    "editable": true
   },
   "outputs": [],
   "source": [
    "def calcul_rang_final(liens,nb_iter_max,epsilon,alpha,memoire_noeuds):\n",
    "    nb_iter=0\n",
    "    nb_noeuds=liens.distinct().count()\n",
    "    rangs = liens.map(lambda num_voisin: (num_voisin[0], 1/nb_noeuds))  #initialisation du rang de chaque noeud\n",
    "    moyennes_diff_rang=[]\n",
    "    max_diff_rang=[]\n",
    "    p_converge=[]\n",
    "    if memoire_noeuds:#pour voir évolution du pagerank par noeud\n",
    "        memoire=pd.DataFrame(rangs.collect(),columns=['index',0]).set_index('index',drop=True)\n",
    "    while nb_iter<nb_iter_max:\n",
    "        contribs = liens.join(rangs).flatMap( lambda x: liste_contrib(x[1][0], x[1][1]))  #calcul contribution de chacun\n",
    "        nouv_rangs = contribs.reduceByKey(add).mapValues(lambda rang: rang * alpha + (1-alpha)/nb_noeuds) #nouveaux rangs\n",
    "        diff_rang = rangs.join(nouv_rangs).map(lambda score : abs(score[1][1]-score[1][0])/score[1][0]) #calcul du taux de variation du rang\n",
    "        liste_diff_rang=diff_rang.collect()\n",
    "        moyennes_diff_rang.append(np.mean(liste_diff_rang))\n",
    "        max_diff_rang.append(max(liste_diff_rang))\n",
    "        p_converge.append(sum(i<epsilon for i in liste_diff_rang)/len(liste_diff_rang))\n",
    "        nb_iter+=1\n",
    "        if memoire_noeuds:\n",
    "            memoire_nouv=pd.DataFrame(nouv_rangs.collect(),columns=['index',nb_iter]).set_index('index',drop=True)\n",
    "            memoire=pd.merge(memoire,memoire_nouv,left_index=True,right_index=True)\n",
    "        rangs=nouv_rangs\n",
    "    if memoire_noeuds:\n",
    "        retour=(nouv_rangs,p_converge,moyennes_diff_rang,max_diff_rang,memoire)\n",
    "    else :\n",
    "        retour=(nouv_rangs,p_converge,moyennes_diff_rang,max_diff_rang)\n",
    "    return retour"
   ]
  },
  {
   "cell_type": "markdown",
   "metadata": {
    "deletable": true,
    "editable": true
   },
   "source": [
    "## Création d'un petit jeu de données"
   ]
  },
  {
   "cell_type": "markdown",
   "metadata": {
    "deletable": true,
    "editable": true
   },
   "source": [
    "Création de la base test"
   ]
  },
  {
   "cell_type": "code",
   "execution_count": 4,
   "metadata": {
    "collapsed": false
   },
   "outputs": [],
   "source": [
    "liens_test=[('1','2'),('1','3'),('1','4'),\n",
    "      ('2','3'),('2','4'),\n",
    "      ('3','4'),\n",
    "      ('4','1')]\n",
    "liens_df=pd.DataFrame(liens_test,columns=['num','num_sortant'])\n",
    "liens_test=sc.parallelize(liens_test).distinct().groupByKey().cache()"
   ]
  },
  {
   "cell_type": "code",
   "execution_count": 7,
   "metadata": {
    "collapsed": false,
    "deletable": true,
    "editable": true
   },
   "outputs": [
    {
     "data": {
      "image/png": "[encoded data removed]",
      "text/plain": [
       "<matplotlib.figure.Figure at 0x9cd9210>"
      ]
     },
     "metadata": {},
     "output_type": "display_data"
    }
   ],
   "source": [
    "graphe=nx.from_pandas_dataframe(liens_df, 'num', 'num_sortant',create_using=nx.DiGraph())\n",
    "graphe=nx.draw_networkx(graphe, node_color = 'grey', node_size = 500,arrows=True)\n",
    "plt.savefig('Output/graphe.png')"
   ]
  },
  {
   "cell_type": "markdown",
   "metadata": {},
   "source": [
    "## Implémentation sur le jeu petit jeu de données"
   ]
  },
  {
   "cell_type": "markdown",
   "metadata": {
    "deletable": true,
    "editable": true
   },
   "source": [
    "Choix des paramètres"
   ]
  },
  {
   "cell_type": "code",
   "execution_count": 8,
   "metadata": {
    "collapsed": true,
    "deletable": true,
    "editable": true
   },
   "outputs": [],
   "source": [
    "alpha=0.85\n",
    "eps=1e-3\n",
    "nb_iter=5\n",
    "memoire_noeuds=True"
   ]
  },
  {
   "cell_type": "markdown",
   "metadata": {
    "deletable": true,
    "editable": true
   },
   "source": [
    "Implémentation de l'algorithme"
   ]
  },
  {
   "cell_type": "code",
   "execution_count": 9,
   "metadata": {
    "collapsed": false,
    "deletable": true,
    "editable": true
   },
   "outputs": [],
   "source": [
    "nouv_rangs_test,p_converge_test,moyennes_diff_rang_test,max_diff_rang_test,memoire=calcul_rang_final(liens_test,nb_iter,eps,alpha,memoire_noeuds)"
   ]
  },
  {
   "cell_type": "markdown",
   "metadata": {
    "deletable": true,
    "editable": true
   },
   "source": [
    "Vérification des sorties"
   ]
  },
  {
   "cell_type": "code",
   "execution_count": 11,
   "metadata": {
    "collapsed": false,
    "deletable": true,
    "editable": true
   },
   "outputs": [
    {
     "data": {
      "text/plain": [
       "[('3', 0.18209947410300928),\n",
       " ('2', 0.12717645109953704),\n",
       " ('4', 0.346487371238426),\n",
       " ('1', 0.3442367035590278)]"
      ]
     },
     "execution_count": 11,
     "metadata": {},
     "output_type": "execute_result"
    }
   ],
   "source": [
    "nouv_rangs_test.collect()"
   ]
  },
  {
   "cell_type": "markdown",
   "metadata": {},
   "source": [
    "On représente le grahique des moyennes des taux de variations (en rouge) et du maximum des taux de variation pour chaque itération :"
   ]
  },
  {
   "cell_type": "code",
   "execution_count": 12,
   "metadata": {
    "collapsed": false
   },
   "outputs": [
    {
     "data": {
      "image/png": "[encoded data removed]",
      "text/plain": [
       "<matplotlib.figure.Figure at 0x9cffe30>"
      ]
     },
     "metadata": {},
     "output_type": "display_data"
    }
   ],
   "source": [
    "liste=[i for i in range(len(moyennes_diff_rang_test))]\n",
    "plt.plot(liste,moyennes_diff_rang_test,\"r--\",liste,max_diff_rang_test,\"b--\")\n",
    "plt.show()"
   ]
  },
  {
   "cell_type": "code",
   "execution_count": 13,
   "metadata": {
    "collapsed": false
   },
   "outputs": [
    {
     "data": {
      "text/html": [
       "<div>\n",
       "<table border=\"1\" class=\"dataframe\">\n",
       "  <thead>\n",
       "    <tr style=\"text-align: right;\">\n",
       "      <th></th>\n",
       "      <th>0</th>\n",
       "      <th>1</th>\n",
       "      <th>2</th>\n",
       "      <th>3</th>\n",
       "      <th>4</th>\n",
       "      <th>5</th>\n",
       "    </tr>\n",
       "    <tr>\n",
       "      <th>index</th>\n",
       "      <th></th>\n",
       "      <th></th>\n",
       "      <th></th>\n",
       "      <th></th>\n",
       "      <th></th>\n",
       "      <th></th>\n",
       "    </tr>\n",
       "  </thead>\n",
       "  <tbody>\n",
       "    <tr>\n",
       "      <th>3</th>\n",
       "      <td>0.25</td>\n",
       "      <td>0.214583</td>\n",
       "      <td>0.154375</td>\n",
       "      <td>0.197023</td>\n",
       "      <td>0.193398</td>\n",
       "      <td>0.182099</td>\n",
       "    </tr>\n",
       "    <tr>\n",
       "      <th>2</th>\n",
       "      <td>0.25</td>\n",
       "      <td>0.108333</td>\n",
       "      <td>0.108333</td>\n",
       "      <td>0.150981</td>\n",
       "      <td>0.129231</td>\n",
       "      <td>0.127176</td>\n",
       "    </tr>\n",
       "    <tr>\n",
       "      <th>4</th>\n",
       "      <td>0.25</td>\n",
       "      <td>0.427083</td>\n",
       "      <td>0.336771</td>\n",
       "      <td>0.328241</td>\n",
       "      <td>0.360867</td>\n",
       "      <td>0.346487</td>\n",
       "    </tr>\n",
       "    <tr>\n",
       "      <th>1</th>\n",
       "      <td>0.25</td>\n",
       "      <td>0.250000</td>\n",
       "      <td>0.400521</td>\n",
       "      <td>0.323755</td>\n",
       "      <td>0.316505</td>\n",
       "      <td>0.344237</td>\n",
       "    </tr>\n",
       "  </tbody>\n",
       "</table>\n",
       "</div>"
      ],
      "text/plain": [
       "          0         1         2         3         4         5\n",
       "index                                                        \n",
       "3      0.25  0.214583  0.154375  0.197023  0.193398  0.182099\n",
       "2      0.25  0.108333  0.108333  0.150981  0.129231  0.127176\n",
       "4      0.25  0.427083  0.336771  0.328241  0.360867  0.346487\n",
       "1      0.25  0.250000  0.400521  0.323755  0.316505  0.344237"
      ]
     },
     "execution_count": 13,
     "metadata": {},
     "output_type": "execute_result"
    }
   ],
   "source": [
    "memoire"
   ]
  },
  {
   "cell_type": "code",
   "execution_count": 14,
   "metadata": {
    "collapsed": true
   },
   "outputs": [],
   "source": [
    "memoire.to_csv('memoire.csv',header=True, index=None)"
   ]
  },
  {
   "cell_type": "markdown",
   "metadata": {
    "deletable": true,
    "editable": true
   },
   "source": [
    "## Chargement du jeu de données réel"
   ]
  },
  {
   "cell_type": "markdown",
   "metadata": {
    "deletable": true,
    "editable": true
   },
   "source": [
    "On récupère une base de données web sur le site http://snap.stanford.edu. On passe par pandas pour enlever les premières lignes correspondant à des commentaires. On enlève par ailleurs les noeuds qui n'ont aucun lien sortant."
   ]
  },
  {
   "cell_type": "code",
   "execution_count": 15,
   "metadata": {
    "collapsed": false,
    "deletable": true,
    "editable": true
   },
   "outputs": [],
   "source": [
    "df = pd.read_csv(\"web-Stanford.txt\", sep=\"\\t\",names=['num','num_sortant'] ,encoding=\"utf-8\",skiprows=[0,1,2,3])#2312497 lignes\n",
    "liste_noeuds=df['num'].unique()\n",
    "df2=df[df.num_sortant.isin(liste_noeuds)]#2312087 lignes\n",
    "df2.to_csv(\"web-Stanford2.txt\", sep=\"\\t\", encoding=\"utf-8\", index=False, header=None)"
   ]
  },
  {
   "cell_type": "code",
   "execution_count": 16,
   "metadata": {
    "collapsed": true,
    "deletable": true,
    "editable": true
   },
   "outputs": [],
   "source": [
    "def coupler(nums):\n",
    "    #fonction pour parser les données\n",
    "    couple = re.split(r'\\t', nums)\n",
    "    return couple[0], couple[1]"
   ]
  },
  {
   "cell_type": "markdown",
   "metadata": {
    "deletable": true,
    "editable": true
   },
   "source": [
    "Chargement sur spark"
   ]
  },
  {
   "cell_type": "code",
   "execution_count": 17,
   "metadata": {
    "collapsed": false,
    "deletable": true,
    "editable": true
   },
   "outputs": [],
   "source": [
    "base = sc.textFile(\"web-Stanford2.txt\",1)  \n",
    "liens = base.map(lambda nums: coupler(nums)).distinct().groupByKey().cache()"
   ]
  },
  {
   "cell_type": "markdown",
   "metadata": {
    "deletable": true,
    "editable": true
   },
   "source": [
    "## Implémentation de l'algorithme sur le jeu de données réel"
   ]
  },
  {
   "cell_type": "markdown",
   "metadata": {
    "deletable": true,
    "editable": true
   },
   "source": [
    "Choix des paramètres"
   ]
  },
  {
   "cell_type": "code",
   "execution_count": 18,
   "metadata": {
    "collapsed": true,
    "deletable": true,
    "editable": true
   },
   "outputs": [],
   "source": [
    "alpha=0.85\n",
    "eps=1e-3\n",
    "nb_iter=20\n",
    "memoire=False"
   ]
  },
  {
   "cell_type": "markdown",
   "metadata": {
    "deletable": true,
    "editable": true
   },
   "source": [
    "Implémentation de l'algorithme"
   ]
  },
  {
   "cell_type": "code",
   "execution_count": 19,
   "metadata": {
    "collapsed": false,
    "deletable": true,
    "editable": true
   },
   "outputs": [],
   "source": [
    "nouv_rangs,p_converge,moyennes_diff_rang,max_diff_rang=calcul_rang_final(liens,nb_iter,eps,alpha,memoire)"
   ]
  },
  {
   "cell_type": "code",
   "execution_count": 20,
   "metadata": {
    "collapsed": false,
    "deletable": true,
    "editable": true
   },
   "outputs": [
    {
     "data": {
      "image/png": "[encoded data removed]",
      "text/plain": [
       "<matplotlib.figure.Figure at 0x9c35650>"
      ]
     },
     "metadata": {},
     "output_type": "display_data"
    }
   ],
   "source": [
    "import matplotlib.pyplot as plt\n",
    "plt.plot(p_converge)\n",
    "plt.title(\"Pourcentage de pages web dont le rang a convergé en fonction du nombre d'itérations\")\n",
    "plt.ylabel('Pourcentage')\n",
    "plt.xlabel('Itérations')\n",
    "plt.savefig('Output/pourcentage_reel.png')\n",
    "plt.show()"
   ]
  },
  {
   "cell_type": "code",
   "execution_count": 21,
   "metadata": {
    "collapsed": false,
    "deletable": true,
    "editable": true
   },
   "outputs": [
    {
     "data": {
      "image/png": "[encoded data removed]",
      "text/plain": [
       "<matplotlib.figure.Figure at 0x9c99850>"
      ]
     },
     "metadata": {},
     "output_type": "display_data"
    }
   ],
   "source": [
    "plt.plot(moyennes_diff_rang)\n",
    "plt.title(\"Moyenne du taux de variation des pages web en fonction du nombre d'itérations\")\n",
    "plt.ylabel('Moyenne')\n",
    "plt.xlabel('Itérations')\n",
    "plt.savefig('Output/moyenne_reel.png')\n",
    "plt.show()"
   ]
  },
  {
   "cell_type": "code",
   "execution_count": 22,
   "metadata": {
    "collapsed": false,
    "deletable": true,
    "editable": true
   },
   "outputs": [
    {
     "data": {
      "image/png": "[encoded data removed]",
      "text/plain": [
       "<matplotlib.figure.Figure at 0xa5833d0>"
      ]
     },
     "metadata": {},
     "output_type": "display_data"
    }
   ],
   "source": [
    "plt.plot(max_diff_rang)\n",
    "plt.title(\"Maximum du taux de variation des pages web en fonction du nombre d'itérations\")\n",
    "plt.ylabel('Maximum')\n",
    "plt.xlabel('Itérations')\n",
    "plt.savefig('Output/max_reel.png')\n",
    "plt.show()"
   ]
  },
  {
   "cell_type": "code",
   "execution_count": 23,
   "metadata": {
    "collapsed": false,
    "deletable": true,
    "editable": true
   },
   "outputs": [],
   "source": [
    "liste=nouv_rangs.collect()"
   ]
  },
  {
   "cell_type": "code",
   "execution_count": 28,
   "metadata": {
    "collapsed": false
   },
   "outputs": [
    {
     "data": {
      "image/png": "[encoded data removed]",
      "text/plain": [
       "<matplotlib.figure.Figure at 0x9d9f670>"
      ]
     },
     "metadata": {},
     "output_type": "display_data"
    }
   ],
   "source": [
    "pd.DataFrame(liste)[1].hist(bins=40, range=(0,0.00001))\n",
    "plt.savefig('Output/hist_val.png')"
   ]
  },
  {
   "cell_type": "code",
   "execution_count": null,
   "metadata": {
    "collapsed": true
   },
   "outputs": [],
   "source": []
  }
 ],
 "metadata": {
  "kernelspec": {
   "display_name": "Python 3",
   "language": "python",
   "name": "python3"
  },
  "language_info": {
   "codemirror_mode": {
    "name": "ipython",
    "version": 3
   },
   "file_extension": ".py",
   "mimetype": "text/x-python",
   "name": "python",
   "nbconvert_exporter": "python",
   "pygments_lexer": "ipython3",
   "version": "3.4.4"
  }
 },
 "nbformat": 4,
 "nbformat_minor": 1
}
